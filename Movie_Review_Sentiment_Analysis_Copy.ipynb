{
  "nbformat": 4,
  "nbformat_minor": 0,
  "metadata": {
    "kernelspec": {
      "display_name": "Python 3",
      "language": "python",
      "name": "python3"
    },
    "language_info": {
      "codemirror_mode": {
        "name": "ipython",
        "version": 3
      },
      "file_extension": ".py",
      "mimetype": "text/x-python",
      "name": "python",
      "nbconvert_exporter": "python",
      "pygments_lexer": "ipython3",
      "version": "3.7.6"
    },
    "colab": {
      "name": "Movie Review Sentiment Analysis - Copy.ipynb",
      "provenance": [],
      "collapsed_sections": []
    }
  },
  "cells": [
    {
      "cell_type": "code",
      "metadata": {
        "colab": {
          "base_uri": "https://localhost:8080/"
        },
        "id": "TKsFSptRsge7",
        "outputId": "d2b8b915-6f51-47df-e0f4-280fffd9f03c"
      },
      "source": [
        "from google.colab import drive\n",
        "drive.mount(\"/content/drive\")"
      ],
      "execution_count": null,
      "outputs": [
        {
          "output_type": "stream",
          "text": [
            "Mounted at /content/drive\n"
          ],
          "name": "stdout"
        }
      ]
    },
    {
      "cell_type": "markdown",
      "metadata": {
        "id": "T7eU5yC0sehN"
      },
      "source": [
        "# Importing necessary libraries for document fetching and pre-processing"
      ]
    },
    {
      "cell_type": "code",
      "metadata": {
        "colab": {
          "base_uri": "https://localhost:8080/"
        },
        "id": "EcLMCKrfsehR",
        "outputId": "60c1cae0-c3fb-410c-fe2e-59543be4756a"
      },
      "source": [
        "import numpy as np,pandas as pd\n",
        "import re, string, unicodedata\n",
        "import nltk\n",
        "from nltk import word_tokenize\n",
        "from nltk.corpus import stopwords\n",
        "from nltk.stem import LancasterStemmer\n",
        "#import pickle\n",
        "nltk.download('stopwords')\n",
        "nltk.download('punkt')"
      ],
      "execution_count": null,
      "outputs": [
        {
          "output_type": "stream",
          "text": [
            "[nltk_data] Downloading package stopwords to /root/nltk_data...\n",
            "[nltk_data]   Unzipping corpora/stopwords.zip.\n",
            "[nltk_data] Downloading package punkt to /root/nltk_data...\n",
            "[nltk_data]   Unzipping tokenizers/punkt.zip.\n"
          ],
          "name": "stdout"
        },
        {
          "output_type": "execute_result",
          "data": {
            "text/plain": [
              "True"
            ]
          },
          "metadata": {
            "tags": []
          },
          "execution_count": 2
        }
      ]
    },
    {
      "cell_type": "markdown",
      "metadata": {
        "id": "PCCg2yIMsehT"
      },
      "source": [
        "# Importing necessary documents for model building and evaluation"
      ]
    },
    {
      "cell_type": "code",
      "metadata": {
        "id": "SKQtJqBnsehT"
      },
      "source": [
        "from sklearn.naive_bayes import MultinomialNB\n",
        "from sklearn import svm\n",
        "from sklearn.neighbors import KNeighborsClassifier\n",
        "from sklearn.metrics import classification_report,accuracy_score\n",
        "import matplotlib.pyplot as plt"
      ],
      "execution_count": null,
      "outputs": []
    },
    {
      "cell_type": "markdown",
      "metadata": {
        "id": "jsg5Ifh1sehU"
      },
      "source": [
        "# Read the data and understand it"
      ]
    },
    {
      "cell_type": "code",
      "metadata": {
        "id": "Up4CgFiosehU"
      },
      "source": [
        "train_data = pd.read_csv('/content/drive/MyDrive/kaggle/train.tsv', delimiter='\\t')\n",
        "test_data = pd.read_csv('/content/drive/MyDrive/kaggle/test.tsv', delimiter='\\t')"
      ],
      "execution_count": null,
      "outputs": []
    },
    {
      "cell_type": "code",
      "metadata": {
        "colab": {
          "base_uri": "https://localhost:8080/",
          "height": 205
        },
        "id": "cvV1qlJysehV",
        "outputId": "b1544229-f7ad-43bc-c780-96d7565283ae"
      },
      "source": [
        "train_data.head()"
      ],
      "execution_count": null,
      "outputs": [
        {
          "output_type": "execute_result",
          "data": {
            "text/html": [
              "<div>\n",
              "<style scoped>\n",
              "    .dataframe tbody tr th:only-of-type {\n",
              "        vertical-align: middle;\n",
              "    }\n",
              "\n",
              "    .dataframe tbody tr th {\n",
              "        vertical-align: top;\n",
              "    }\n",
              "\n",
              "    .dataframe thead th {\n",
              "        text-align: right;\n",
              "    }\n",
              "</style>\n",
              "<table border=\"1\" class=\"dataframe\">\n",
              "  <thead>\n",
              "    <tr style=\"text-align: right;\">\n",
              "      <th></th>\n",
              "      <th>PhraseId</th>\n",
              "      <th>SentenceId</th>\n",
              "      <th>Phrase</th>\n",
              "      <th>Sentiment</th>\n",
              "    </tr>\n",
              "  </thead>\n",
              "  <tbody>\n",
              "    <tr>\n",
              "      <th>0</th>\n",
              "      <td>1</td>\n",
              "      <td>1</td>\n",
              "      <td>A series of escapades demonstrating the adage ...</td>\n",
              "      <td>1</td>\n",
              "    </tr>\n",
              "    <tr>\n",
              "      <th>1</th>\n",
              "      <td>2</td>\n",
              "      <td>1</td>\n",
              "      <td>A series of escapades demonstrating the adage ...</td>\n",
              "      <td>2</td>\n",
              "    </tr>\n",
              "    <tr>\n",
              "      <th>2</th>\n",
              "      <td>3</td>\n",
              "      <td>1</td>\n",
              "      <td>A series</td>\n",
              "      <td>2</td>\n",
              "    </tr>\n",
              "    <tr>\n",
              "      <th>3</th>\n",
              "      <td>4</td>\n",
              "      <td>1</td>\n",
              "      <td>A</td>\n",
              "      <td>2</td>\n",
              "    </tr>\n",
              "    <tr>\n",
              "      <th>4</th>\n",
              "      <td>5</td>\n",
              "      <td>1</td>\n",
              "      <td>series</td>\n",
              "      <td>2</td>\n",
              "    </tr>\n",
              "  </tbody>\n",
              "</table>\n",
              "</div>"
            ],
            "text/plain": [
              "   PhraseId  ...  Sentiment\n",
              "0         1  ...          1\n",
              "1         2  ...          2\n",
              "2         3  ...          2\n",
              "3         4  ...          2\n",
              "4         5  ...          2\n",
              "\n",
              "[5 rows x 4 columns]"
            ]
          },
          "metadata": {
            "tags": []
          },
          "execution_count": 5
        }
      ]
    },
    {
      "cell_type": "code",
      "metadata": {
        "colab": {
          "base_uri": "https://localhost:8080/",
          "height": 205
        },
        "id": "-37T5of9sehV",
        "outputId": "bf613a05-0652-4085-fa34-86090898a86b"
      },
      "source": [
        "test_data.head()"
      ],
      "execution_count": null,
      "outputs": [
        {
          "output_type": "execute_result",
          "data": {
            "text/html": [
              "<div>\n",
              "<style scoped>\n",
              "    .dataframe tbody tr th:only-of-type {\n",
              "        vertical-align: middle;\n",
              "    }\n",
              "\n",
              "    .dataframe tbody tr th {\n",
              "        vertical-align: top;\n",
              "    }\n",
              "\n",
              "    .dataframe thead th {\n",
              "        text-align: right;\n",
              "    }\n",
              "</style>\n",
              "<table border=\"1\" class=\"dataframe\">\n",
              "  <thead>\n",
              "    <tr style=\"text-align: right;\">\n",
              "      <th></th>\n",
              "      <th>PhraseId</th>\n",
              "      <th>SentenceId</th>\n",
              "      <th>Phrase</th>\n",
              "    </tr>\n",
              "  </thead>\n",
              "  <tbody>\n",
              "    <tr>\n",
              "      <th>0</th>\n",
              "      <td>156061</td>\n",
              "      <td>8545</td>\n",
              "      <td>An intermittently pleasing but mostly routine ...</td>\n",
              "    </tr>\n",
              "    <tr>\n",
              "      <th>1</th>\n",
              "      <td>156062</td>\n",
              "      <td>8545</td>\n",
              "      <td>An intermittently pleasing but mostly routine ...</td>\n",
              "    </tr>\n",
              "    <tr>\n",
              "      <th>2</th>\n",
              "      <td>156063</td>\n",
              "      <td>8545</td>\n",
              "      <td>An</td>\n",
              "    </tr>\n",
              "    <tr>\n",
              "      <th>3</th>\n",
              "      <td>156064</td>\n",
              "      <td>8545</td>\n",
              "      <td>intermittently pleasing but mostly routine effort</td>\n",
              "    </tr>\n",
              "    <tr>\n",
              "      <th>4</th>\n",
              "      <td>156065</td>\n",
              "      <td>8545</td>\n",
              "      <td>intermittently pleasing but mostly routine</td>\n",
              "    </tr>\n",
              "  </tbody>\n",
              "</table>\n",
              "</div>"
            ],
            "text/plain": [
              "   PhraseId  SentenceId                                             Phrase\n",
              "0    156061        8545  An intermittently pleasing but mostly routine ...\n",
              "1    156062        8545  An intermittently pleasing but mostly routine ...\n",
              "2    156063        8545                                                 An\n",
              "3    156064        8545  intermittently pleasing but mostly routine effort\n",
              "4    156065        8545         intermittently pleasing but mostly routine"
            ]
          },
          "metadata": {
            "tags": []
          },
          "execution_count": 6
        }
      ]
    },
    {
      "cell_type": "markdown",
      "metadata": {
        "id": "MUYJmqfIsehX"
      },
      "source": [
        "### Remove un-necessary attributes"
      ]
    },
    {
      "cell_type": "code",
      "metadata": {
        "id": "L5b0BEWZsehY"
      },
      "source": [
        "classes = [\"negative\",\"somewhat negative\",\"neutral\",\"somewhat positive\",\"positive\"]\n",
        "train_data.drop([\"PhraseId\",\"SentenceId\"],axis=1,inplace=True)"
      ],
      "execution_count": null,
      "outputs": []
    },
    {
      "cell_type": "markdown",
      "metadata": {
        "id": "dEX7iJgUsehY"
      },
      "source": [
        "# Check if there are any missing values in the dataset"
      ]
    },
    {
      "cell_type": "code",
      "metadata": {
        "colab": {
          "base_uri": "https://localhost:8080/"
        },
        "id": "zTn8LBRBsehZ",
        "outputId": "c4cc156c-4026-4f58-9de4-e0bc788963de"
      },
      "source": [
        "train_data.isnull().sum()"
      ],
      "execution_count": null,
      "outputs": [
        {
          "output_type": "execute_result",
          "data": {
            "text/plain": [
              "Phrase       0\n",
              "Sentiment    0\n",
              "dtype: int64"
            ]
          },
          "metadata": {
            "tags": []
          },
          "execution_count": 8
        }
      ]
    },
    {
      "cell_type": "markdown",
      "metadata": {
        "id": "TS53QaZRsehZ"
      },
      "source": [
        "# Check the distribution of classes in the dataset"
      ]
    },
    {
      "cell_type": "code",
      "metadata": {
        "id": "t1A-WugKseha"
      },
      "source": [
        "k = train_data[\"Sentiment\"].value_counts()\n",
        "k1 = pd.DataFrame([k[0],k[1],k[2],k[3],k[4]],index=classes,columns=[\"Count\"])"
      ],
      "execution_count": null,
      "outputs": []
    },
    {
      "cell_type": "markdown",
      "metadata": {
        "id": "dTlztwTAseha"
      },
      "source": [
        "The classes are not uniformly distributed which may be a cause for hampering our model "
      ]
    },
    {
      "cell_type": "code",
      "metadata": {
        "colab": {
          "base_uri": "https://localhost:8080/",
          "height": 205
        },
        "id": "cG85tEnZseha",
        "outputId": "aaa73f28-3688-4b9b-d08b-9fc1603b21ac"
      },
      "source": [
        "k1"
      ],
      "execution_count": null,
      "outputs": [
        {
          "output_type": "execute_result",
          "data": {
            "text/html": [
              "<div>\n",
              "<style scoped>\n",
              "    .dataframe tbody tr th:only-of-type {\n",
              "        vertical-align: middle;\n",
              "    }\n",
              "\n",
              "    .dataframe tbody tr th {\n",
              "        vertical-align: top;\n",
              "    }\n",
              "\n",
              "    .dataframe thead th {\n",
              "        text-align: right;\n",
              "    }\n",
              "</style>\n",
              "<table border=\"1\" class=\"dataframe\">\n",
              "  <thead>\n",
              "    <tr style=\"text-align: right;\">\n",
              "      <th></th>\n",
              "      <th>Count</th>\n",
              "    </tr>\n",
              "  </thead>\n",
              "  <tbody>\n",
              "    <tr>\n",
              "      <th>negative</th>\n",
              "      <td>7072</td>\n",
              "    </tr>\n",
              "    <tr>\n",
              "      <th>somewhat negative</th>\n",
              "      <td>27273</td>\n",
              "    </tr>\n",
              "    <tr>\n",
              "      <th>neutral</th>\n",
              "      <td>79582</td>\n",
              "    </tr>\n",
              "    <tr>\n",
              "      <th>somewhat positive</th>\n",
              "      <td>32927</td>\n",
              "    </tr>\n",
              "    <tr>\n",
              "      <th>positive</th>\n",
              "      <td>9206</td>\n",
              "    </tr>\n",
              "  </tbody>\n",
              "</table>\n",
              "</div>"
            ],
            "text/plain": [
              "                   Count\n",
              "negative            7072\n",
              "somewhat negative  27273\n",
              "neutral            79582\n",
              "somewhat positive  32927\n",
              "positive            9206"
            ]
          },
          "metadata": {
            "tags": []
          },
          "execution_count": 10
        }
      ]
    },
    {
      "cell_type": "code",
      "metadata": {
        "colab": {
          "base_uri": "https://localhost:8080/"
        },
        "id": "S0oeZ73Dsehb",
        "outputId": "88027a7d-4031-4c40-c9d3-fa33b67e2886"
      },
      "source": [
        "list(k1[\"Count\"])"
      ],
      "execution_count": null,
      "outputs": [
        {
          "output_type": "execute_result",
          "data": {
            "text/plain": [
              "[7072, 27273, 79582, 32927, 9206]"
            ]
          },
          "metadata": {
            "tags": []
          },
          "execution_count": 11
        }
      ]
    },
    {
      "cell_type": "code",
      "metadata": {
        "colab": {
          "base_uri": "https://localhost:8080/",
          "height": 392
        },
        "id": "V3LP3LzJsehb",
        "outputId": "86d5d8e4-e601-4689-9d16-ad44c858bd69"
      },
      "source": [
        "plt.figure(figsize=(10,5))\n",
        "plt.pie(list(k1[\"Count\"]),labels=classes,autopct='%1.1f%%',shadow=True)\n",
        "plt.title(\"Distribution of classes in the dataset\")\n",
        "plt.axis(\"equal\")"
      ],
      "execution_count": null,
      "outputs": [
        {
          "output_type": "execute_result",
          "data": {
            "text/plain": [
              "(-1.1090821199443506,\n",
              " 1.1004324849338496,\n",
              " -1.1214182180460146,\n",
              " 1.1087858778342818)"
            ]
          },
          "metadata": {
            "tags": []
          },
          "execution_count": 12
        },
        {
          "output_type": "display_data",
          "data": {
            "image/png": "[encoded data removed]",
            "text/plain": [
              "<Figure size 720x360 with 1 Axes>"
            ]
          },
          "metadata": {
            "tags": []
          }
        }
      ]
    },
    {
      "cell_type": "markdown",
      "metadata": {
        "id": "wV3Efd72sehc"
      },
      "source": [
        "# Functions to pre-process a phrase"
      ]
    },
    {
      "cell_type": "code",
      "metadata": {
        "id": "a-5-WYIgsehc"
      },
      "source": [
        "def remove_non_ascii(words):\n",
        "    new_words = []\n",
        "    for word in words:\n",
        "        new_word = unicodedata.normalize('NFKD', word).encode('ascii', 'ignore').decode('utf-8', 'ignore')\n",
        "        if new_word!=\"\":\n",
        "            new_words.append(new_word)\n",
        "    return new_words\n",
        "\n",
        "def to_lowercase(words):\n",
        "    return [word.lower() for word in words]\n",
        "\n",
        "def remove_numbers(words):\n",
        "    new_words = []\n",
        "    for word in words:\n",
        "        new_word = re.sub(r'\\d+','',word)\n",
        "        if new_word != '':\n",
        "            new_words.append(new_word)\n",
        "    return new_words\n",
        "\n",
        "def remove_stopwords(words):\n",
        "    stop_words = set(stopwords.words(\"english\"))-{\"above\",\"couldn't\",\"didn't\",\"did\",\"below\",\"dosen't\",\"don't\",\"not\",\"very\",\"won't\",\"wouldn't\"}\n",
        "    return [word for word in words if word not in stop_words]\n",
        "\n",
        "def stem_words(words):\n",
        "    stemmer = LancasterStemmer()\n",
        "    return [stemmer.stem(word) for word in words]"
      ],
      "execution_count": null,
      "outputs": []
    },
    {
      "cell_type": "code",
      "metadata": {
        "id": "67YM72HIsehd"
      },
      "source": [
        "def lexical_analysis(words):\n",
        "    words = remove_non_ascii(words)\n",
        "    words = to_lowercase(words)\n",
        "    words = remove_numbers(words)\n",
        "    return words\n",
        "\n",
        "def preprocess(phrase):\n",
        "    phrase = phrase.translate(str.maketrans(string.punctuation, ' '*len(string.punctuation)))\n",
        "    words = word_tokenize(phrase)\n",
        "    words = lexical_analysis(words)\n",
        "    words = remove_stopwords(words)\n",
        "    words = stem_words(words)\n",
        "    words = remove_stopwords(words)\n",
        "    return words"
      ],
      "execution_count": null,
      "outputs": []
    },
    {
      "cell_type": "code",
      "metadata": {
        "id": "XPbR5lG8sehd"
      },
      "source": [
        "corpus = []\n",
        "for phrase in train_data[\"Phrase\"]:\n",
        "    review = preprocess(phrase)\n",
        "    review = ' '.join(review)\n",
        "    corpus.append(review)"
      ],
      "execution_count": null,
      "outputs": []
    },
    {
      "cell_type": "markdown",
      "metadata": {
        "id": "CjcfdWdhsehe"
      },
      "source": [
        "# Divide the entire training set ( 80% training and 20% test)"
      ]
    },
    {
      "cell_type": "code",
      "metadata": {
        "id": "SaOOJAESsehe"
      },
      "source": [
        "from sklearn.model_selection import train_test_split\n",
        "X_train1,X_test1,y_train,y_test = train_test_split(corpus,train_data[\"Sentiment\"], test_size = 0.2, random_state = 42)"
      ],
      "execution_count": null,
      "outputs": []
    },
    {
      "cell_type": "markdown",
      "metadata": {
        "id": "cziq6oW1sehf"
      },
      "source": [
        "# Converting text to numerical data using tf-idf vectorizer"
      ]
    },
    {
      "cell_type": "code",
      "metadata": {
        "colab": {
          "base_uri": "https://localhost:8080/"
        },
        "id": "hQClqjArsehg",
        "outputId": "0d669144-a452-473b-ea44-b85422244a92"
      },
      "source": [
        "from sklearn.feature_extraction.text import TfidfVectorizer\n",
        "tf_idf_vect = TfidfVectorizer()\n",
        "tf_idf_vect.fit(corpus)"
      ],
      "execution_count": null,
      "outputs": [
        {
          "output_type": "execute_result",
          "data": {
            "text/plain": [
              "TfidfVectorizer(analyzer='word', binary=False, decode_error='strict',\n",
              "                dtype=<class 'numpy.float64'>, encoding='utf-8',\n",
              "                input='content', lowercase=True, max_df=1.0, max_features=None,\n",
              "                min_df=1, ngram_range=(1, 1), norm='l2', preprocessor=None,\n",
              "                smooth_idf=True, stop_words=None, strip_accents=None,\n",
              "                sublinear_tf=False, token_pattern='(?u)\\\\b\\\\w\\\\w+\\\\b',\n",
              "                tokenizer=None, use_idf=True, vocabulary=None)"
            ]
          },
          "metadata": {
            "tags": []
          },
          "execution_count": 17
        }
      ]
    },
    {
      "cell_type": "code",
      "metadata": {
        "id": "5QUl7SOksehg"
      },
      "source": [
        "X_train_tiv = tf_idf_vect.transform(X_train1)\n",
        "X_test_tiv = tf_idf_vect.transform(X_test1)"
      ],
      "execution_count": null,
      "outputs": []
    },
    {
      "cell_type": "code",
      "metadata": {
        "id": "GHSLuFpGsehg"
      },
      "source": [
        "results = {}\n",
        "results[\"Naive Bayes\"] = {}\n",
        "results[\"KNN\"] = {}\n",
        "results[\"SVM\"] = {}"
      ],
      "execution_count": null,
      "outputs": []
    },
    {
      "cell_type": "markdown",
      "metadata": {
        "id": "NdVqAjn0sehh"
      },
      "source": [
        "# Model Creation, training and testing"
      ]
    },
    {
      "cell_type": "markdown",
      "metadata": {
        "id": "EWai7Qrwsehj"
      },
      "source": [
        "# Naive Bayes (train using td-idf vectorized data)"
      ]
    },
    {
      "cell_type": "code",
      "metadata": {
        "id": "r8_FZSC3sehj"
      },
      "source": [
        "nb_tiv = MultinomialNB()\n",
        "nb_tiv.fit(X_train_tiv,y_train)\n",
        "y_pred_nb = nb_tiv.predict(X_test_tiv)"
      ],
      "execution_count": null,
      "outputs": []
    },
    {
      "cell_type": "code",
      "metadata": {
        "colab": {
          "base_uri": "https://localhost:8080/"
        },
        "id": "vQGA88Hxsehj",
        "outputId": "0e37e742-f625-4295-9455-e9461d19d06b"
      },
      "source": [
        "print(classification_report(y_test ,y_pred_nb, target_names=classes ))\n",
        "a = nb_tiv.score(X_test_tiv,y_test)\n",
        "print('Accuracy: ', a)\n",
        "results[\"Naive Bayes\"]['Testing'] = a\n",
        "results[\"Naive Bayes\"]['Training'] = nb_tiv.score(X_train_tiv,y_train)"
      ],
      "execution_count": null,
      "outputs": [
        {
          "output_type": "stream",
          "text": [
            "                   precision    recall  f1-score   support\n",
            "\n",
            "         negative       0.65      0.04      0.07      1416\n",
            "somewhat negative       0.52      0.22      0.31      5527\n",
            "          neutral       0.58      0.91      0.71     15639\n",
            "somewhat positive       0.52      0.32      0.40      6707\n",
            "         positive       0.56      0.04      0.08      1923\n",
            "\n",
            "         accuracy                           0.57     31212\n",
            "        macro avg       0.57      0.31      0.31     31212\n",
            "     weighted avg       0.56      0.57      0.51     31212\n",
            "\n",
            "Accuracy:  0.5707099833397411\n"
          ],
          "name": "stdout"
        }
      ]
    },
    {
      "cell_type": "markdown",
      "metadata": {
        "id": "XsQ62jTesehl"
      },
      "source": [
        "# KNN (TF - IDF Vectorizer)"
      ]
    },
    {
      "cell_type": "code",
      "metadata": {
        "id": "M8qG6-zFsehl"
      },
      "source": [
        "knn_tiv = KNeighborsClassifier(n_neighbors=5)\n",
        "knn_tiv.fit(X_train_tiv,y_train)\n",
        "y_pred_knn = knn_tiv.predict(X_test_tiv)"
      ],
      "execution_count": null,
      "outputs": []
    },
    {
      "cell_type": "code",
      "metadata": {
        "colab": {
          "base_uri": "https://localhost:8080/"
        },
        "id": "eXja5zFIsehm",
        "outputId": "8b0de382-a778-4470-f6ce-ef78b6c9c02c"
      },
      "source": [
        "print(classification_report(y_test ,y_pred_knn, target_names=classes ))\n",
        "results[\"KNN\"]['Testing'] = knn_tiv.score(X_test_tiv,y_test)\n",
        "results[\"KNN\"]['Training'] = knn_tiv.score(X_train_tiv,y_train)"
      ],
      "execution_count": null,
      "outputs": [
        {
          "output_type": "stream",
          "text": [
            "                   precision    recall  f1-score   support\n",
            "\n",
            "         negative       0.42      0.38      0.40      1416\n",
            "somewhat negative       0.51      0.48      0.49      5527\n",
            "          neutral       0.67      0.80      0.73     15639\n",
            "somewhat positive       0.55      0.42      0.47      6707\n",
            "         positive       0.56      0.28      0.37      1923\n",
            "\n",
            "         accuracy                           0.61     31212\n",
            "        macro avg       0.54      0.47      0.49     31212\n",
            "     weighted avg       0.60      0.61      0.60     31212\n",
            "\n"
          ],
          "name": "stdout"
        }
      ]
    },
    {
      "cell_type": "markdown",
      "metadata": {
        "id": "syeuS_wYsehn"
      },
      "source": [
        "# SVM (TF IDF Vectorizer)"
      ]
    },
    {
      "cell_type": "code",
      "metadata": {
        "colab": {
          "base_uri": "https://localhost:8080/"
        },
        "id": "Ge5BkvNnsehn",
        "outputId": "139c82a0-a429-4704-9524-f0dc7fff1287"
      },
      "source": [
        "SVM_tiv = svm.SVC(C=1.0, kernel='linear', degree=3, gamma='auto')\n",
        "SVM_tiv.fit(X_train_tiv,y_train)"
      ],
      "execution_count": null,
      "outputs": [
        {
          "output_type": "execute_result",
          "data": {
            "text/plain": [
              "SVC(C=1.0, break_ties=False, cache_size=200, class_weight=None, coef0=0.0,\n",
              "    decision_function_shape='ovr', degree=3, gamma='auto', kernel='linear',\n",
              "    max_iter=-1, probability=False, random_state=None, shrinking=True,\n",
              "    tol=0.001, verbose=False)"
            ]
          },
          "metadata": {
            "tags": []
          },
          "execution_count": 24
        }
      ]
    },
    {
      "cell_type": "code",
      "metadata": {
        "id": "nOcZt-Nwseho"
      },
      "source": [
        "results[\"SVM\"]['Testing'] = SVM_tiv.score(X_test_tiv,y_test)\n",
        "results[\"SVM\"]['Training'] = SVM_tiv.score(X_train_tiv,y_train)"
      ],
      "execution_count": null,
      "outputs": []
    },
    {
      "cell_type": "code",
      "metadata": {
        "colab": {
          "base_uri": "https://localhost:8080/",
          "height": 112
        },
        "id": "DJF4w996seho",
        "outputId": "3b918977-c064-4bd5-8ae2-ff8355035eaf"
      },
      "source": [
        "pd.DataFrame(results)"
      ],
      "execution_count": null,
      "outputs": [
        {
          "output_type": "execute_result",
          "data": {
            "text/html": [
              "<div>\n",
              "<style scoped>\n",
              "    .dataframe tbody tr th:only-of-type {\n",
              "        vertical-align: middle;\n",
              "    }\n",
              "\n",
              "    .dataframe tbody tr th {\n",
              "        vertical-align: top;\n",
              "    }\n",
              "\n",
              "    .dataframe thead th {\n",
              "        text-align: right;\n",
              "    }\n",
              "</style>\n",
              "<table border=\"1\" class=\"dataframe\">\n",
              "  <thead>\n",
              "    <tr style=\"text-align: right;\">\n",
              "      <th></th>\n",
              "      <th>Naive Bayes</th>\n",
              "      <th>KNN</th>\n",
              "      <th>SVM</th>\n",
              "    </tr>\n",
              "  </thead>\n",
              "  <tbody>\n",
              "    <tr>\n",
              "      <th>Testing</th>\n",
              "      <td>0.570710</td>\n",
              "      <td>0.609926</td>\n",
              "      <td>0.62194</td>\n",
              "    </tr>\n",
              "    <tr>\n",
              "      <th>Training</th>\n",
              "      <td>0.602164</td>\n",
              "      <td>0.728654</td>\n",
              "      <td>0.65607</td>\n",
              "    </tr>\n",
              "  </tbody>\n",
              "</table>\n",
              "</div>"
            ],
            "text/plain": [
              "          Naive Bayes       KNN      SVM\n",
              "Testing      0.570710  0.609926  0.62194\n",
              "Training     0.602164  0.728654  0.65607"
            ]
          },
          "metadata": {
            "tags": []
          },
          "execution_count": 26
        }
      ]
    },
    {
      "cell_type": "code",
      "metadata": {
        "colab": {
          "base_uri": "https://localhost:8080/"
        },
        "id": "8jsQv0QLsehp",
        "outputId": "33b6f3d5-4ac7-4373-d7b2-12553746366b"
      },
      "source": [
        "nb_tiv"
      ],
      "execution_count": null,
      "outputs": [
        {
          "output_type": "execute_result",
          "data": {
            "text/plain": [
              "MultinomialNB(alpha=1.0, class_prior=None, fit_prior=True)"
            ]
          },
          "metadata": {
            "tags": []
          },
          "execution_count": 27
        }
      ]
    },
    {
      "cell_type": "markdown",
      "metadata": {
        "id": "VCo0sBN1JBE9"
      },
      "source": [
        "•\tSVM performed the best for the dataset considered. Even though the training set accuracy was maximum for KNN but it showed less accuracy against test set but there wasn’t much decrease in accuracy from training set to test set for SVM\n",
        "\n",
        "•\tThe accuracies of models are average and it may be due to the following reasons.<br<<br>\n",
        "  •\t<strong>Related to dataset</strong>\n",
        "    1.\tThe number of training examples for positive and negative examples are very low\n",
        "    2.\tThe class distribution is not uniform. Its evident from f1 score column of Claasification report when test set was predicted using KNN that the model is biased towards neutral class \n",
        "    \n",
        "                              precision recall    f1-score support\n",
        "\n",
        "         negative      \t\t    0.42      0.38      0.40      1416\n",
        "         somewhat negative         0.51      0.48      0.49      5527\n",
        "         neutral       \t\t    0.67      0.80      0.73      15639\n",
        "         somewhat positive         0.55      0.42      0.47      6707\n",
        "         positive       \t\t   0.56      0.28      0.37      1923\n",
        "\n",
        "         accuracy                            \t\t  0.61      31212\n",
        "         macro avg       \t\t  0.54      0.47      0.49      31212\n",
        "         weighted avg       \t   0.60      0.61      0.60      31212\n",
        "<i>Probable Solution</i> : A dataset with large number of tuples for each class and distribution of classes are equal\n",
        "\n",
        "•\t<strong>Related to Models</strong> : \n",
        "      The machine learning models used do not store sequence           information. But its commonly the case that meaning of a word has to be inferred based on any other word which is used earlier or later. For example, consider the phrase ‘not good’. It is negative sentence but due to the presence of word good and with no information about the past words the model will predict it as positive.<br>\n",
        "<i>Probable Solution</i> : Use of advanced NLP techniques which can store sequence information such as LSTM.\n"
      ]
    },
    {
      "cell_type": "code",
      "metadata": {
        "id": "BNTsj4LOKICp"
      },
      "source": [
        ""
      ],
      "execution_count": null,
      "outputs": []
    }
  ]
}